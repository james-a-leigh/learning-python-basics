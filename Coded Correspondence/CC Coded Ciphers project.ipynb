{
 "cells": [
  {
   "cell_type": "markdown",
   "metadata": {
    "id": "MOuHPAaNqc0x"
   },
   "source": [
    "# Casual Coded Correspondence: The Project\n",
    "\n",
    "In this project, you will be working to code and decode various messages between you and your fictional cryptography enthusiast pen pal Vishal. You and Vishal have been exchanging letters for quite some time now and have started to provide a puzzle in each one of your letters.  Here is his most recent letter:\n",
    "\n",
    "     Hey there! How have you been? I've been great! I just learned about this really cool type of cipher called a  Caesar Cipher. Here's how it works: You take your message, something like \"hello\" and then you shift all of the letters by a certain offset. For example, if I chose an offset of 3 and a message of \"hello\", I would code my message by shifting each letter 3 places to the left (with respect to the alphabet). So \"h\" becomes \"e\", \"e\" becomes, \"b\", \"l\" becomes \"i\", and \"o\" becomes \"l\". Then I have my coded message,\"ebiil\"! Now I can send you my message and the offset and you can decode it. The best thing is that Julius Caesar himself used this cipher, that's why it's called the Caesar Cipher! Isn't that so cool! Okay, now I'm going to send you a longer coded message that you have to decode yourself!\n",
    "    \n",
    "        xuo jxuhu! jxyi yi qd unqcfbu ev q squiqh syfxuh. muhu oek qrbu je tusetu yj? y xefu ie! iudt cu q cuiiqwu rqsa myjx jxu iqcu evviuj!\n",
    "    \n",
    "    This message has an offset of 10. Can you decode it?\n",
    "    \n",
    "\n",
    "#### Step 1: Decode Vishal's Message\n",
    "In the cell below, use your Python skills to decode Vishal's message and print the result. Hint: you can account for shifts that go past the end of the alphabet using the modulus operator, but I'll let you figure out how!"
   ]
  },
  {
   "cell_type": "code",
   "execution_count": null,
   "metadata": {
    "colab": {
     "base_uri": "https://localhost:8080/"
    },
    "executionInfo": {
     "elapsed": 851,
     "status": "ok",
     "timestamp": 1615562046471,
     "user": {
      "displayName": "James Leigh",
      "photoUrl": "https://lh3.googleusercontent.com/a-/AOh14GhFr-Ux36LTY6H4j0n2DrOBGyXz0hNboBcUYG7y=s64",
      "userId": "06429838663414473840"
     },
     "user_tz": 0
    },
    "id": "rMS1nq1n2Gfg",
    "outputId": "7fb7002d-e4f4-4ca4-f708-4023ecbf7ae8"
   },
   "outputs": [
    {
     "name": "stdout",
     "output_type": "stream",
     "text": [
      "hey there! this is an example of a caesar cipher. were you able to decode it? i hope so! send me a message back with the same offset!\n"
     ]
    }
   ],
   "source": [
    "message = \"xuo jxuhu! jxyi yi qd unqcfbu ev q squiqh syfxuh. muhu oek qrbu je tusetu yj? y xefu ie! iudt cu q cuiiqwu rqsa myjx jxu iqcu evviuj!\"\n",
    "alphabet = \"abcdefghijklmnopqrstuvwxyz\"\n",
    "fixed_message = \"\"\n",
    "\n",
    "for character in message:\n",
    "  if character not in alphabet:\n",
    "    fixed_message = fixed_message + character\n",
    "  else:\n",
    "    alphabet_index = alphabet.find(character)\n",
    "    new_letter = alphabet[(alphabet_index+10)%26]\n",
    "    fixed_message = fixed_message + new_letter\n",
    "\n",
    "print(fixed_message)"
   ]
  },
  {
   "cell_type": "markdown",
   "metadata": {
    "id": "M-3hrp_QDCrf"
   },
   "source": [
    "## Explanation\n",
    "The difficult and important part of this step is the `new_letter = alphabet[(alphabet_index+10)%26]` section. The offset is actually 10 to the right (not the left as in the senders example) so you have to find the index (letter number) in the alphabet of the character in the coded message and add 10 to it.\n",
    "\n",
    "If the resulting number is less than the total length of the alphabet (26) then the letter can just be added on to the end with no problems. But if it's over 26, then you need to loop round back to the beginning of the alphabet.\n",
    "\n",
    "You *could* do this by writing some clunky code that adds the total number - 26 to the beginning of the alphabet, or you could use the modulo function.\n",
    "\n",
    "So far, I've only used modulo to figure out remainders mostly to see if something is even or odd, i.e. `26%2` = 0 i.e. even, but `26%1` != 0 i.e. odd. Here its being used almost the other way around, where the larger number (length of the alphabet) is not the thing being divided, its the smaller number (the index of the character within the alphabet) thats being divided.\n",
    "\n",
    "So, if you divide the smaller number by the larger number (which is the maximum size limit of the smaller number (length of the alphabet)) then you will always end up with the modulo being the same as the smaller number. `4%26` = 4. `16%26` = 16, and `25%26` = 25.\n",
    "\n",
    "This works especially well for cyclical loops, because if you end up with a alphabet index of over the length of the alphabet (e.g. the input character is z, so z + 10 = 36), using the same modulo method **would give you the index of the letter in the alphabet that you'd get if you looped back to the beginning after getting to the end of the list!**\n",
    "\n",
    "So, if the input was z (26), and the offset was +10 (making the final value 36) then `36%26` = 10, so the fixed character would be the 10th in the alphabet i.e. j.\n",
    "\n",
    "Then just need to add the first part, which just says \"if the character is not in the defined alphabet list, just pass it straight into the fixed message\" (i.e. !,.?...)"
   ]
  },
  {
   "cell_type": "markdown",
   "metadata": {
    "id": "sEXtk_vjqc1D"
   },
   "source": [
    "#### Step 2: Send Vishal a Coded Message\n",
    "Great job! Now send Vishal back a message using the same offset. Your message can be anything you want! Remember, coding happens in opposite direction of decoding."
   ]
  },
  {
   "cell_type": "code",
   "execution_count": null,
   "metadata": {
    "colab": {
     "base_uri": "https://localhost:8080/"
    },
    "executionInfo": {
     "elapsed": 840,
     "status": "ok",
     "timestamp": 1615562046473,
     "user": {
      "displayName": "James Leigh",
      "photoUrl": "https://lh3.googleusercontent.com/a-/AOh14GhFr-Ux36LTY6H4j0n2DrOBGyXz0hNboBcUYG7y=s64",
      "userId": "06429838663414473840"
     },
     "user_tz": 0
    },
    "id": "LyWYkQAoqc1D",
    "outputId": "68ff64b4-f6b3-47c5-cea3-85f00f60e095"
   },
   "outputs": [
    {
     "name": "stdout",
     "output_type": "stream",
     "text": [
      "Huo! Txqj mqi q huqbbo xqht sxqbbudwu, rkj I cqdqwut je vywkhu yj ekj yd jxu udt!\n"
     ]
    }
   ],
   "source": [
    "message_to_encode = \"Hey! That was a really hard challenge, but I managed to figure it out in the end!\"\n",
    "alphabet = \"abcdefghijklmnopqrstuvwxyz\"\n",
    "encoded_message = \"\"\n",
    "\n",
    "for character in message_to_encode:\n",
    "  if character not in alphabet:\n",
    "    encoded_message = encoded_message + character\n",
    "  else:\n",
    "    alphabet_index = alphabet.find(character)\n",
    "    new_letter = alphabet[(alphabet_index-10)%26]\n",
    "    encoded_message = encoded_message + new_letter\n",
    "\n",
    "print(encoded_message)"
   ]
  },
  {
   "cell_type": "markdown",
   "metadata": {
    "id": "zp2VzOybqc1E"
   },
   "source": [
    "#### Step 3: Make functions for decoding and coding \n",
    "\n",
    "Vishal sent over another reply, this time with two coded messages!\n",
    "    \n",
    "    You're getting the hang of this! Okay here are two more messages, the first one is coded just like before with  an offset of ten, and it contains the hint for decoding the second message!\n",
    "    \n",
    "    First message:\n",
    "    \n",
    "        jxu evviuj veh jxu iusedt cuiiqwu yi vekhjuud.\n",
    "        \n",
    "    Second message:\n",
    "    \n",
    "        bqdradyuzs ygxfubxq omqemd oubtqde fa oapq kagd yqeemsqe ue qhqz yadq eqogdq!\n",
    "    \n",
    "Decode both of these messages. \n",
    "\n",
    "If you haven't already, define two functions `decoder(message, offset)` and `coder(message, offset)` that can be used to quickly decode and code messages given any offset."
   ]
  },
  {
   "cell_type": "code",
   "execution_count": null,
   "metadata": {
    "id": "_O7XKIuHSCE9"
   },
   "outputs": [],
   "source": [
    "# decoder\n",
    "\n",
    "def decoder(message, offset):\n",
    "  alphabet = \"abcdefghijklmnopqrstuvwxyz\"\n",
    "  fixed_message = \"\"\n",
    "  for character in message:\n",
    "    if character not in alphabet:\n",
    "      fixed_message = fixed_message + character\n",
    "    else:\n",
    "      alphabet_index = alphabet.find(character)\n",
    "      new_letter = alphabet[(alphabet_index + offset)%26]\n",
    "      fixed_message = fixed_message + new_letter\n",
    "  return fixed_message\n",
    "\n",
    "# encoder\n",
    "\n",
    "def encoder(message, offset):\n",
    "  alphabet = \"abcdefghijklmnopqrstuvwxyz\"\n",
    "  fixed_message = \"\"\n",
    "  for character in message:\n",
    "    if character not in alphabet:\n",
    "      fixed_message = fixed_message + character\n",
    "    else:\n",
    "      alphabet_index = alphabet.find(character)\n",
    "      new_letter = alphabet[(alphabet_index - offset)%26]\n",
    "      fixed_message = fixed_message + new_letter\n",
    "  return fixed_message"
   ]
  },
  {
   "cell_type": "code",
   "execution_count": null,
   "metadata": {
    "colab": {
     "base_uri": "https://localhost:8080/",
     "height": 37
    },
    "executionInfo": {
     "elapsed": 828,
     "status": "ok",
     "timestamp": 1615562046475,
     "user": {
      "displayName": "James Leigh",
      "photoUrl": "https://lh3.googleusercontent.com/a-/AOh14GhFr-Ux36LTY6H4j0n2DrOBGyXz0hNboBcUYG7y=s64",
      "userId": "06429838663414473840"
     },
     "user_tz": 0
    },
    "id": "-mO2ShVNqc1E",
    "outputId": "5d8c6468-e296-42fe-bc91-a2424ca87e03"
   },
   "outputs": [
    {
     "data": {
      "application/vnd.google.colaboratory.intrinsic+json": {
       "type": "string"
      },
      "text/plain": [
       "'the offset for the second message is fourteen.'"
      ]
     },
     "execution_count": 16,
     "metadata": {
      "tags": []
     },
     "output_type": "execute_result"
    }
   ],
   "source": [
    "def decoder(message, offset):\n",
    "  alphabet = \"abcdefghijklmnopqrstuvwxyz\"\n",
    "  fixed_message = \"\"\n",
    "  for character in message:\n",
    "    if character not in alphabet:\n",
    "      fixed_message = fixed_message + character\n",
    "    else:\n",
    "      alphabet_index = alphabet.find(character)\n",
    "      new_letter = alphabet[(alphabet_index + offset)%26]\n",
    "      fixed_message = fixed_message + new_letter\n",
    "  return fixed_message\n",
    "\n",
    "decoder(\"jxu evviuj veh jxu iusedt cuiiqwu yi vekhjuud.\", 10)"
   ]
  },
  {
   "cell_type": "code",
   "execution_count": null,
   "metadata": {
    "colab": {
     "base_uri": "https://localhost:8080/",
     "height": 37
    },
    "executionInfo": {
     "elapsed": 818,
     "status": "ok",
     "timestamp": 1615562046476,
     "user": {
      "displayName": "James Leigh",
      "photoUrl": "https://lh3.googleusercontent.com/a-/AOh14GhFr-Ux36LTY6H4j0n2DrOBGyXz0hNboBcUYG7y=s64",
      "userId": "06429838663414473840"
     },
     "user_tz": 0
    },
    "id": "wB9wZ07Rqc1E",
    "outputId": "c4580783-8890-4f11-a9d7-da9d7e231595"
   },
   "outputs": [
    {
     "data": {
      "application/vnd.google.colaboratory.intrinsic+json": {
       "type": "string"
      },
      "text/plain": [
       "'performing multiple caesar ciphers to code your messages is even more secure!'"
      ]
     },
     "execution_count": 17,
     "metadata": {
      "tags": []
     },
     "output_type": "execute_result"
    }
   ],
   "source": [
    "decoder(\"bqdradyuzs ygxfubxq omqemd oubtqde fa oapq kagd yqeemsqe ue qhqz yadq eqogdq!\", 14)"
   ]
  },
  {
   "cell_type": "markdown",
   "metadata": {
    "id": "1Vgmls3eqc1F"
   },
   "source": [
    "#### Step 4: Solving a Caesar Cipher without knowing the shift value\n",
    "\n",
    "Awesome work! While you were working to decode his last two messages, Vishal sent over another letter! He's really been bitten by the crytpo-bug. Read it and see what interesting task he has lined up for you this time.\n",
    "\n",
    "            Hello again friend! I knew you would love the Caesar Cipher, it's a cool simple way to encrypt messages. Did you know that back in Caesar's time, it was considered a very secure way of communication and it took a lot of effort to crack if you were unaware of the value of the shift? That's all changed with computers! Now we can brute force these kinds of ciphers very quickly, as I'm sure you can imagine.\n",
    "            \n",
    "            To test your cryptography skills, this next coded message is going to be harder than the last couple to crack. It's still going to be coded with a Caesar Cipher but this time I'm not going to tell you the value of   the shift. You'll have to brute force it yourself.\n",
    "            \n",
    "            Here's the coded message:\n",
    "            \n",
    "            vhfinmxkl atox kxgwxkxw tee hy maxlx hew vbiaxkl tl hulhexmx. px'ee atox mh kxteer lmxi ni hnk ztfx by px ptgm mh dxxi hnk fxlltzxl ltyx.\n",
    "            \n",
    "            Good luck!\n",
    "            \n",
    "Decode Vishal's most recent message and see what it says!"
   ]
  },
  {
   "cell_type": "code",
   "execution_count": null,
   "metadata": {
    "colab": {
     "base_uri": "https://localhost:8080/"
    },
    "executionInfo": {
     "elapsed": 811,
     "status": "ok",
     "timestamp": 1615562046477,
     "user": {
      "displayName": "James Leigh",
      "photoUrl": "https://lh3.googleusercontent.com/a-/AOh14GhFr-Ux36LTY6H4j0n2DrOBGyXz0hNboBcUYG7y=s64",
      "userId": "06429838663414473840"
     },
     "user_tz": 0
    },
    "id": "GQkD64ceqc1G",
    "outputId": "6d9196d6-2752-47fa-910a-62bd69b992c6"
   },
   "outputs": [
    {
     "name": "stdout",
     "output_type": "stream",
     "text": [
      "Offset:  0   vhfinmxkl atox kxgwxkxw tee hy maxlx hew vbiaxkl tl hulhexmx. px'ee atox mh kxteer lmxi ni hnk ztfx by px ptgm mh dxxi hnk fxlltzxl ltyx.\n",
      "Offset:  1   wigjonylm bupy lyhxylyx uff iz nbymy ifx wcjbylm um ivmifyny. qy'ff bupy ni lyuffs mnyj oj iol augy cz qy quhn ni eyyj iol gymmuaym muzy.\n",
      "Offset:  2   xjhkpozmn cvqz mziyzmzy vgg ja ocznz jgy xdkczmn vn jwnjgzoz. rz'gg cvqz oj mzvggt nozk pk jpm bvhz da rz rvio oj fzzk jpm hznnvbzn nvaz.\n",
      "Offset:  3   ykilqpano dwra najzanaz whh kb pdaoa khz yeldano wo kxokhapa. sa'hh dwra pk nawhhu opal ql kqn cwia eb sa swjp pk gaal kqn iaoowcao owba.\n",
      "Offset:  4   zljmrqbop exsb obkaboba xii lc qebpb lia zfmebop xp lyplibqb. tb'ii exsb ql obxiiv pqbm rm lro dxjb fc tb txkq ql hbbm lro jbppxdbp pxcb.\n",
      "Offset:  5   amknsrcpq fytc pclbcpcb yjj md rfcqc mjb agnfcpq yq mzqmjcrc. uc'jj fytc rm pcyjjw qrcn sn msp eykc gd uc uylr rm iccn msp kcqqyecq qydc.\n",
      "Offset:  6   bnlotsdqr gzud qdmcdqdc zkk ne sgdrd nkc bhogdqr zr narnkdsd. vd'kk gzud sn qdzkkx rsdo to ntq fzld he vd vzms sn jddo ntq ldrrzfdr rzed.\n",
      "Offset:  7   computers have rendered all of these old ciphers as obsolete. we'll have to really step up our game if we want to keep our messages safe.\n",
      "Offset:  8   dpnqvufst ibwf sfoefsfe bmm pg uiftf pme djqifst bt pctpmfuf. xf'mm ibwf up sfbmmz tufq vq pvs hbnf jg xf xbou up lffq pvs nfttbhft tbgf.\n",
      "Offset:  9   eqorwvgtu jcxg tgpfgtgf cnn qh vjgug qnf ekrjgtu cu qduqngvg. yg'nn jcxg vq tgcnna uvgr wr qwt icog kh yg ycpv vq mggr qwt oguucigu uchg.\n",
      "Offset:  10   frpsxwhuv kdyh uhqghuhg doo ri wkhvh rog flskhuv dv revrohwh. zh'oo kdyh wr uhdoob vwhs xs rxu jdph li zh zdqw wr nhhs rxu phvvdjhv vdih.\n",
      "Offset:  11   gsqtyxivw lezi virhivih epp sj xliwi sph gmtlivw ew sfwspixi. ai'pp lezi xs vieppc wxit yt syv keqi mj ai aerx xs oiit syv qiwwekiw weji.\n",
      "Offset:  12   htruzyjwx mfaj wjsijwji fqq tk ymjxj tqi hnumjwx fx tgxtqjyj. bj'qq mfaj yt wjfqqd xyju zu tzw lfrj nk bj bfsy yt pjju tzw rjxxfljx xfkj.\n",
      "Offset:  13   iusvazkxy ngbk xktjkxkj grr ul znkyk urj iovnkxy gy uhyurkzk. ck'rr ngbk zu xkgrre yzkv av uax mgsk ol ck cgtz zu qkkv uax skyygmky yglk.\n",
      "Offset:  14   jvtwbalyz ohcl yluklylk hss vm aolzl vsk jpwolyz hz vizvslal. dl'ss ohcl av ylhssf zalw bw vby nhtl pm dl dhua av rllw vby tlzzhnlz zhml.\n",
      "Offset:  15   kwuxcbmza pidm zmvlmzml itt wn bpmam wtl kqxpmza ia wjawtmbm. em'tt pidm bw zmittg abmx cx wcz oium qn em eivb bw smmx wcz umaaioma ainm.\n",
      "Offset:  16   lxvydcnab qjen anwmnanm juu xo cqnbn xum lryqnab jb xkbxuncn. fn'uu qjen cx anjuuh bcny dy xda pjvn ro fn fjwc cx tnny xda vnbbjpnb bjon.\n",
      "Offset:  17   mywzedobc rkfo boxnobon kvv yp droco yvn mszrobc kc ylcyvodo. go'vv rkfo dy bokvvi cdoz ez yeb qkwo sp go gkxd dy uooz yeb wocckqoc ckpo.\n",
      "Offset:  18   nzxafepcd slgp cpyopcpo lww zq espdp zwo ntaspcd ld zmdzwpep. hp'ww slgp ez cplwwj depa fa zfc rlxp tq hp hlye ez vppa zfc xpddlrpd dlqp.\n",
      "Offset:  19   oaybgfqde tmhq dqzpqdqp mxx ar ftqeq axp oubtqde me aneaxqfq. iq'xx tmhq fa dqmxxk efqb gb agd smyq ur iq imzf fa wqqb agd yqeemsqe emrq.\n",
      "Offset:  20   pbzchgref unir eraqrerq nyy bs gurfr byq pvcuref nf bofbyrgr. jr'yy unir gb ernyyl fgrc hc bhe tnzr vs jr jnag gb xrrc bhe zrffntrf fnsr.\n",
      "Offset:  21   qcadihsfg vojs fsbrsfsr ozz ct hvsgs czr qwdvsfg og cpgczshs. ks'zz vojs hc fsozzm ghsd id cif uoas wt ks kobh hc yssd cif asggousg gots.\n",
      "Offset:  22   rdbejitgh wpkt gtcstgts paa du iwtht das rxewtgh ph dqhdatit. lt'aa wpkt id gtpaan hite je djg vpbt xu lt lpci id ztte djg bthhpvth hput.\n",
      "Offset:  23   secfkjuhi xqlu hudtuhut qbb ev jxuiu ebt syfxuhi qi eriebuju. mu'bb xqlu je huqbbo ijuf kf ekh wqcu yv mu mqdj je auuf ekh cuiiqwui iqvu.\n",
      "Offset:  24   tfdglkvij yrmv iveuvivu rcc fw kyvjv fcu tzgyvij rj fsjfcvkv. nv'cc yrmv kf ivrccp jkvg lg fli xrdv zw nv nrek kf bvvg fli dvjjrxvj jrwv.\n",
      "Offset:  25   ugehmlwjk zsnw jwfvwjwv sdd gx lzwkw gdv uahzwjk sk gtkgdwlw. ow'dd zsnw lg jwsddq klwh mh gmj ysew ax ow osfl lg cwwh gmj ewkksywk ksxw.\n",
      "Offset:  26   vhfinmxkl atox kxgwxkxw tee hy maxlx hew vbiaxkl tl hulhexmx. px'ee atox mh kxteer lmxi ni hnk ztfx by px ptgm mh dxxi hnk fxlltzxl ltyx.\n",
      "Offset:  27   wigjonylm bupy lyhxylyx uff iz nbymy ifx wcjbylm um ivmifyny. qy'ff bupy ni lyuffs mnyj oj iol augy cz qy quhn ni eyyj iol gymmuaym muzy.\n",
      "Offset:  28   xjhkpozmn cvqz mziyzmzy vgg ja ocznz jgy xdkczmn vn jwnjgzoz. rz'gg cvqz oj mzvggt nozk pk jpm bvhz da rz rvio oj fzzk jpm hznnvbzn nvaz.\n",
      "Offset:  29   ykilqpano dwra najzanaz whh kb pdaoa khz yeldano wo kxokhapa. sa'hh dwra pk nawhhu opal ql kqn cwia eb sa swjp pk gaal kqn iaoowcao owba.\n",
      "Offset:  30   zljmrqbop exsb obkaboba xii lc qebpb lia zfmebop xp lyplibqb. tb'ii exsb ql obxiiv pqbm rm lro dxjb fc tb txkq ql hbbm lro jbppxdbp pxcb.\n",
      "Offset:  31   amknsrcpq fytc pclbcpcb yjj md rfcqc mjb agnfcpq yq mzqmjcrc. uc'jj fytc rm pcyjjw qrcn sn msp eykc gd uc uylr rm iccn msp kcqqyecq qydc.\n",
      "Offset:  32   bnlotsdqr gzud qdmcdqdc zkk ne sgdrd nkc bhogdqr zr narnkdsd. vd'kk gzud sn qdzkkx rsdo to ntq fzld he vd vzms sn jddo ntq ldrrzfdr rzed.\n",
      "Offset:  33   computers have rendered all of these old ciphers as obsolete. we'll have to really step up our game if we want to keep our messages safe.\n",
      "Offset:  34   dpnqvufst ibwf sfoefsfe bmm pg uiftf pme djqifst bt pctpmfuf. xf'mm ibwf up sfbmmz tufq vq pvs hbnf jg xf xbou up lffq pvs nfttbhft tbgf.\n",
      "Offset:  35   eqorwvgtu jcxg tgpfgtgf cnn qh vjgug qnf ekrjgtu cu qduqngvg. yg'nn jcxg vq tgcnna uvgr wr qwt icog kh yg ycpv vq mggr qwt oguucigu uchg.\n",
      "Offset:  36   frpsxwhuv kdyh uhqghuhg doo ri wkhvh rog flskhuv dv revrohwh. zh'oo kdyh wr uhdoob vwhs xs rxu jdph li zh zdqw wr nhhs rxu phvvdjhv vdih.\n",
      "Offset:  37   gsqtyxivw lezi virhivih epp sj xliwi sph gmtlivw ew sfwspixi. ai'pp lezi xs vieppc wxit yt syv keqi mj ai aerx xs oiit syv qiwwekiw weji.\n",
      "Offset:  38   htruzyjwx mfaj wjsijwji fqq tk ymjxj tqi hnumjwx fx tgxtqjyj. bj'qq mfaj yt wjfqqd xyju zu tzw lfrj nk bj bfsy yt pjju tzw rjxxfljx xfkj.\n",
      "Offset:  39   iusvazkxy ngbk xktjkxkj grr ul znkyk urj iovnkxy gy uhyurkzk. ck'rr ngbk zu xkgrre yzkv av uax mgsk ol ck cgtz zu qkkv uax skyygmky yglk.\n"
     ]
    }
   ],
   "source": [
    "for i in range(40):\n",
    "  print(\"Offset: \", i, \" \", decoder(\"vhfinmxkl atox kxgwxkxw tee hy maxlx hew vbiaxkl tl hulhexmx. px'ee atox mh kxteer lmxi ni hnk ztfx by px ptgm mh dxxi hnk fxlltzxl ltyx.\", i))\n"
   ]
  },
  {
   "cell_type": "markdown",
   "metadata": {
    "id": "X_hVqFzSqc1H"
   },
   "source": [
    "#### Step 5: The Vigenère Cipher\n",
    "\n",
    "Great work! While you were working on the brute force cracking of the cipher, Vishal sent over another letter. That guy is a letter machine!\n",
    "\n",
    "            Salutations! As you can see, technology has made brute forcing simple ciphers like the Caesar Cipher extremely easy, and us crypto-enthusiasts have had to get more creative and use more complicated ciphers. This next cipher I'm going to teach you is the Vigenère Cipher, invented by an Italian cryptologist named Giovan Battista Bellaso (cool name eh?) in the 16th century, but named after another cryptologist from the 16th century, Blaise de Vigenère.\n",
    "            \n",
    "           The Vigenère Cipher is a polyalphabetic substitution cipher, as opposed to the Caesar Cipher which was a monoalphabetic substitution cipher. What this means is that opposed to having a single shift that is applied to every letter, the Vigenère Cipher has a different shift for each individual letter. The value of the shift for each letter is determined by a given keyword.\n",
    "           \n",
    "           Consider the message\n",
    "           \n",
    "               barry is the spy\n",
    "\n",
    "           If we want to code this message, first we choose a keyword. For this example, we'll use the keyword\n",
    "           \n",
    "               dog\n",
    "               \n",
    "           Now we use the repeat the keyword over and over to generate a _keyword phrase_ that is the same length as the message we want to code. So if we want to code the message \"barry is the spy\" our _keyword phrase_ is \"dogdo gd ogd ogd\". Now we are ready to start coding our message. We shift the each letter of our message by the place value of the corresponding letter in the keyword phrase, assuming that \"a\" has a place value of 0, \"b\" has a place value of 1, and so forth. Remember, we zero-index because this is Python we're talking about!\n",
    "\n",
    "                        message:       b  a  r  r  y    i  s   t  h  e   s  p  y\n",
    "                \n",
    "                 keyword phrase:       d  o  g  d  o    g  d   o  g  d   o  g  d\n",
    "                 \n",
    "          resulting place value:       4  14 15 12 16   24 11  21 25 22  22 17 5\n",
    "      \n",
    "            So we shift \"b\", which has an index of 1, by the index of \"d\", which is 3. This gives us an place value of 4, which is \"e\". Then continue the trend: we shift \"a\" by the place value of \"o\", 14, and get \"o\" again, we shift \"r\" by the place value of \"g\", 15, and get \"x\", shift the next \"r\" by 12 places and \"u\", and so forth. Once we complete all the shifts we end up with our coded message:\n",
    "            \n",
    "                eoxum ov hnh gvb\n",
    "                \n",
    "            As you can imagine, this is a lot harder to crack without knowing the keyword! So now comes the hard part. I'll give you a message and the keyword, and you'll see if you can figure out how to crack it! Ready? Okay here's my message:\n",
    "            \n",
    "                dfc aruw fsti gr vjtwhr wznj? vmph otis! cbx swv jipreneo uhllj kpi rahjib eg fjdkwkedhmp!\n",
    "                \n",
    "            and the keyword to decode my message is \n",
    "            \n",
    "                friends\n",
    "                \n",
    "            Because that's what we are! Good luck friend!\n",
    "           \n",
    "And there it is. Vishal has given you quite the assignment this time! Try to decode his message. It may be helpful to create a function that takes two parameters, the coded message and the keyword and then work towards a solution from there.\n",
    "\n",
    "**NOTE:** Watch out for spaces and punctuation! When there's a space or punctuation mark in the original message, there should be a space/punctuation mark in the corresponding repeated-keyword string as well! "
   ]
  },
  {
   "cell_type": "code",
   "execution_count": null,
   "metadata": {
    "colab": {
     "base_uri": "https://localhost:8080/",
     "height": 37
    },
    "executionInfo": {
     "elapsed": 981,
     "status": "ok",
     "timestamp": 1615562046655,
     "user": {
      "displayName": "James Leigh",
      "photoUrl": "https://lh3.googleusercontent.com/a-/AOh14GhFr-Ux36LTY6H4j0n2DrOBGyXz0hNboBcUYG7y=s64",
      "userId": "06429838663414473840"
     },
     "user_tz": 0
    },
    "id": "C07b9Osj43zl",
    "outputId": "554b3eb8-9a1c-4587-ea74-e09fac86cb7e"
   },
   "outputs": [
    {
     "data": {
      "application/vnd.google.colaboratory.intrinsic+json": {
       "type": "string"
      },
      "text/plain": [
       "'youwereabletodecodethisniceworkyouarebecomingquitetheexpertatcrytography!'"
      ]
     },
     "execution_count": 19,
     "metadata": {
      "tags": []
     },
     "output_type": "execute_result"
    }
   ],
   "source": [
    "# V3\n",
    "\n",
    "def vigenère_decoder(message, keyword):\n",
    "  alphabet = \"abcdefghijklmnopqrstuvwxyz\"\n",
    "\n",
    "  space_indexes = []\n",
    "  question_mark_indexes = []\n",
    "  exclamation_indexes = []\n",
    "\n",
    "  message_no_spaces = message.replace(\" \", \"\")\n",
    "  message_no_spaces_no_questions = message_no_spaces.replace(\"?\", \"\")\n",
    "  message_no_spaces_no_questions_no_exclamation = message_no_spaces_no_questions.replace(\"!\", \"\")\n",
    "\n",
    "  matched_keyword = \"\"\n",
    "  matched_keyword_with_spaces = \"\"\n",
    "  matched_keyword_with_spaces_and_questions = \"\"\n",
    "  matched_keyword_with_spaces_and_questions_and_exclamation = \"\"\n",
    "\n",
    "  decoded_message_no_punctuation = \"\"\n",
    "\n",
    "  decoded_message_with_exclamations = \"\"\n",
    "\n",
    "  for character in range(len(message)):\n",
    "    if message[character] == \" \":\n",
    "      space_indexes.append(character)\n",
    "    elif message[character] == \"?\":\n",
    "      question_mark_indexes.append(character)\n",
    "    elif message[character] == \"!\":\n",
    "      exclamation_indexes.append(character)\n",
    "\n",
    "  for character in range(len(message_no_spaces_no_questions_no_exclamation)):\n",
    "     matched_keyword = matched_keyword + keyword[character % len(keyword)]\n",
    "\n",
    "  indexes_of_coded_letters = []\n",
    "  indexes_of_keyword_letters = []\n",
    "  \n",
    "  for letter in message_no_spaces_no_questions_no_exclamation:\n",
    "    indexes_of_coded_letters.append(alphabet.find(letter))\n",
    "  for letter in matched_keyword:\n",
    "    indexes_of_keyword_letters.append(alphabet.find(letter))\n",
    "  \n",
    "  indexes_of_decoded_message = []\n",
    "\n",
    "  for letter in range(len(matched_keyword)):\n",
    "    indexes_of_decoded_message.append((indexes_of_coded_letters[letter] - indexes_of_keyword_letters[letter]) % 26)\n",
    "\n",
    "  for index in indexes_of_decoded_message:\n",
    "    decoded_message_no_punctuation = decoded_message_no_punctuation + str(alphabet[index])\n",
    "  \n",
    "  for index in exclamation_indexes:\n",
    "    decoded_message_with_exclamations = decoded_message_no_punctuation[:index] + \"!\" + decoded_message_no_punctuation[index + 1:]\n",
    "  \n",
    "  return decoded_message_with_exclamations\n",
    "\n",
    "  return exclamation_indexes\n",
    "\n",
    "vigenère_decoder(\"dfc aruw fsti gr vjtwhr wznj? vmph otis! cbx swv jipreneo uhllj kpi rahjib eg fjdkwkedhmp!\", \"friends\")"
   ]
  },
  {
   "cell_type": "code",
   "execution_count": null,
   "metadata": {
    "colab": {
     "base_uri": "https://localhost:8080/"
    },
    "executionInfo": {
     "elapsed": 976,
     "status": "ok",
     "timestamp": 1615562046656,
     "user": {
      "displayName": "James Leigh",
      "photoUrl": "https://lh3.googleusercontent.com/a-/AOh14GhFr-Ux36LTY6H4j0n2DrOBGyXz0hNboBcUYG7y=s64",
      "userId": "06429838663414473840"
     },
     "user_tz": 0
    },
    "id": "mjHxc7hTI8Cp",
    "outputId": "dcd564b2-87e5-4269-a365-65d3b414569f"
   },
   "outputs": [
    {
     "name": "stdout",
     "output_type": "stream",
     "text": [
      "hello! this is just a test.\n"
     ]
    }
   ],
   "source": [
    "# Actual solution\n",
    "\n",
    "def vigenere_decoder(coded_message, keyword):\n",
    "    letter_pointer = 0\n",
    "    punctuation = \"?!,. \"\n",
    "    alphabet = \"abcdefghijklmnopqrstuvwxyz\"\n",
    "    keyword_final = ''\n",
    "    for i in range(0,len(coded_message)):\n",
    "        if coded_message[i] in punctuation:\n",
    "            keyword_final += coded_message[i]\n",
    "        else:\n",
    "            keyword_final += keyword[letter_pointer]\n",
    "            letter_pointer = (letter_pointer+1)%len(keyword) \n",
    "    translated_message = ''\n",
    "    for i in range(0,len(coded_message)):    \n",
    "        if not coded_message[i] in punctuation:\n",
    "            ln = alphabet.find(coded_message[i]) - alphabet.find(keyword_final[i])\n",
    "            translated_message += alphabet[ln % 26]\n",
    "        else:\n",
    "            translated_message += coded_message[i]\n",
    "    return translated_message\n",
    "\n",
    "message = \"imenc! buja bu xcfu i mggb.\"\n",
    "keyword = \"bitcoin\"\n",
    "\n",
    "print(vigenere_decoder(message, keyword))"
   ]
  },
  {
   "cell_type": "markdown",
   "metadata": {
    "id": "ZnH-9GoXJJ7m"
   },
   "source": [
    "## Explanation\n",
    "\n",
    "The important part is in the letter pointer aspect, which removes a lot of the complexity of my solution. The letter pointer starts at 0 as this is the first letter of the keyword. From here, for every letter from the coded message THAT ISN'T in punctuation, the pointer goes up by 1 % len(keyword) to ensure the keyword gets added cyclically.\n",
    "\n",
    "Essentially, this function:\n",
    "* Checks if each character in the coded message is a letter or punctuation\n",
    "* Adds puntuation directly to `keyword_final`\n",
    "* Adds letters from keyword going up by one each time (and `% len(keyword`)) to keep it cyclical\n",
    "\n",
    "Then, it:\n",
    "* Checks again if each character in the coded message is punctuation or a letter\n",
    "* If it's a letter, it takes the alphabet index value of the keyword letter from the index value of the coded message letter to get the original alphabet value of the actual decoded letter, and adds it to `translated_message` after using %26 to make sure the alphabet gets looped around again if the final alphabet index value is over 26 or less than 0 (zero indexing!)\n",
    "* If it's punctuation, it just gets passed through into `translated_message`\n",
    "* Then it finally returns the decoded message\n"
   ]
  },
  {
   "cell_type": "markdown",
   "metadata": {
    "collapsed": true,
    "id": "hpiQpd9Bqc1I"
   },
   "source": [
    "#### Step 6: Send a message with the  Vigenère Cipher\n",
    "Great work decoding the message. For your final task, write a function that can encode a message using a given keyword and write out a message to send to Vishal!\n",
    "\n",
    "*As a bonus, try calling your decoder function on the result of your encryption function. You should get the original message back!*"
   ]
  },
  {
   "cell_type": "code",
   "execution_count": null,
   "metadata": {
    "colab": {
     "base_uri": "https://localhost:8080/"
    },
    "executionInfo": {
     "elapsed": 969,
     "status": "ok",
     "timestamp": 1615562046657,
     "user": {
      "displayName": "James Leigh",
      "photoUrl": "https://lh3.googleusercontent.com/a-/AOh14GhFr-Ux36LTY6H4j0n2DrOBGyXz0hNboBcUYG7y=s64",
      "userId": "06429838663414473840"
     },
     "user_tz": 0
    },
    "id": "QlGSGhpXLKNB",
    "outputId": "b21e2b8b-3cb7-42f1-97a4-b9685ab3004e"
   },
   "outputs": [
    {
     "name": "stdout",
     "output_type": "stream",
     "text": [
      "imenc! buja bu xcfu i mggb.\n"
     ]
    }
   ],
   "source": [
    "def vigenere_encoder(message, keyword):\n",
    "    letter_pointer = 0\n",
    "    punctuation = \"?!,. \"\n",
    "    alphabet = \"abcdefghijklmnopqrstuvwxyz\"\n",
    "    keyword_final = ''\n",
    "    for i in range(0,len(message)):\n",
    "        if message[i] in punctuation:\n",
    "            keyword_final += message[i]\n",
    "        else:\n",
    "            keyword_final += keyword[letter_pointer]\n",
    "            letter_pointer = (letter_pointer+1)%len(keyword) \n",
    "    encoded_message = ''\n",
    "    for i in range(0,len(message)):    \n",
    "        if not message[i] in punctuation:\n",
    "            ln = alphabet.find(message[i]) + alphabet.find(keyword_final[i])\n",
    "            encoded_message += alphabet[ln % 26]\n",
    "        else:\n",
    "            encoded_message += message[i]\n",
    "    return encoded_message\n",
    "\n",
    "message = \"hello! this is just a test.\"\n",
    "keyword = \"bitcoin\"\n",
    "\n",
    "print(vigenere_encoder(message, keyword))"
   ]
  },
  {
   "cell_type": "markdown",
   "metadata": {
    "id": "aFMEWlP_qc1J"
   },
   "source": [
    "#### Conclusion\n",
    "Over the course of this project you've learned about two different cipher methods and have used your Python skills to code and decode messages. There are all types of other facinating ciphers out there to explore, and Python is the perfect language to implement them with, so go exploring! "
   ]
  }
 ],
 "metadata": {
  "colab": {
   "authorship_tag": "ABX9TyOt4++JhmKT2o3xtswPyugq",
   "collapsed_sections": [],
   "name": "CC Coded Ciphers project.ipynb",
   "provenance": []
  },
  "kernelspec": {
   "display_name": "Python 3",
   "language": "python",
   "name": "python3"
  },
  "language_info": {
   "codemirror_mode": {
    "name": "ipython",
    "version": 3
   },
   "file_extension": ".py",
   "mimetype": "text/x-python",
   "name": "python",
   "nbconvert_exporter": "python",
   "pygments_lexer": "ipython3",
   "version": "3.8.3"
  }
 },
 "nbformat": 4,
 "nbformat_minor": 1
}
